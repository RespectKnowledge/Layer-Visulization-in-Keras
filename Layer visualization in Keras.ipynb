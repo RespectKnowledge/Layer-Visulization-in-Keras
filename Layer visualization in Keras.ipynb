{
 "cells": [
  {
   "cell_type": "markdown",
   "metadata": {},
   "source": [
    "# keras tutorial using kaggle digits dataset\n",
    "import numpy as np\n",
    "import pandas as pd\n",
    "import matplotlib.pyplot as plt\n",
    "%matplotlib inline"
   ]
  },
  {
   "cell_type": "code",
   "execution_count": 2,
   "metadata": {},
   "outputs": [],
   "source": [
    "# get the train and test image digit dataset\n",
    "train = pd.read_csv(\"train.csv\")\n",
    "test = pd.read_csv(\"test.csv\")"
   ]
  },
  {
   "cell_type": "code",
   "execution_count": 3,
   "metadata": {},
   "outputs": [
    {
     "name": "stdout",
     "output_type": "stream",
     "text": [
      "(42000, 785)\n",
      "(28000, 784)\n"
     ]
    }
   ],
   "source": [
    "print(train.shape)\n",
    "print(test.shape)"
   ]
  },
  {
   "cell_type": "code",
   "execution_count": 4,
   "metadata": {},
   "outputs": [
    {
     "data": {
      "text/html": [
       "<div>\n",
       "<style scoped>\n",
       "    .dataframe tbody tr th:only-of-type {\n",
       "        vertical-align: middle;\n",
       "    }\n",
       "\n",
       "    .dataframe tbody tr th {\n",
       "        vertical-align: top;\n",
       "    }\n",
       "\n",
       "    .dataframe thead th {\n",
       "        text-align: right;\n",
       "    }\n",
       "</style>\n",
       "<table border=\"1\" class=\"dataframe\">\n",
       "  <thead>\n",
       "    <tr style=\"text-align: right;\">\n",
       "      <th></th>\n",
       "      <th>pixel0</th>\n",
       "      <th>pixel1</th>\n",
       "      <th>pixel2</th>\n",
       "      <th>pixel3</th>\n",
       "      <th>pixel4</th>\n",
       "      <th>pixel5</th>\n",
       "      <th>pixel6</th>\n",
       "      <th>pixel7</th>\n",
       "      <th>pixel8</th>\n",
       "      <th>pixel9</th>\n",
       "      <th>...</th>\n",
       "      <th>pixel774</th>\n",
       "      <th>pixel775</th>\n",
       "      <th>pixel776</th>\n",
       "      <th>pixel777</th>\n",
       "      <th>pixel778</th>\n",
       "      <th>pixel779</th>\n",
       "      <th>pixel780</th>\n",
       "      <th>pixel781</th>\n",
       "      <th>pixel782</th>\n",
       "      <th>pixel783</th>\n",
       "    </tr>\n",
       "  </thead>\n",
       "  <tbody>\n",
       "    <tr>\n",
       "      <th>0</th>\n",
       "      <td>0</td>\n",
       "      <td>0</td>\n",
       "      <td>0</td>\n",
       "      <td>0</td>\n",
       "      <td>0</td>\n",
       "      <td>0</td>\n",
       "      <td>0</td>\n",
       "      <td>0</td>\n",
       "      <td>0</td>\n",
       "      <td>0</td>\n",
       "      <td>...</td>\n",
       "      <td>0</td>\n",
       "      <td>0</td>\n",
       "      <td>0</td>\n",
       "      <td>0</td>\n",
       "      <td>0</td>\n",
       "      <td>0</td>\n",
       "      <td>0</td>\n",
       "      <td>0</td>\n",
       "      <td>0</td>\n",
       "      <td>0</td>\n",
       "    </tr>\n",
       "    <tr>\n",
       "      <th>1</th>\n",
       "      <td>0</td>\n",
       "      <td>0</td>\n",
       "      <td>0</td>\n",
       "      <td>0</td>\n",
       "      <td>0</td>\n",
       "      <td>0</td>\n",
       "      <td>0</td>\n",
       "      <td>0</td>\n",
       "      <td>0</td>\n",
       "      <td>0</td>\n",
       "      <td>...</td>\n",
       "      <td>0</td>\n",
       "      <td>0</td>\n",
       "      <td>0</td>\n",
       "      <td>0</td>\n",
       "      <td>0</td>\n",
       "      <td>0</td>\n",
       "      <td>0</td>\n",
       "      <td>0</td>\n",
       "      <td>0</td>\n",
       "      <td>0</td>\n",
       "    </tr>\n",
       "    <tr>\n",
       "      <th>2</th>\n",
       "      <td>0</td>\n",
       "      <td>0</td>\n",
       "      <td>0</td>\n",
       "      <td>0</td>\n",
       "      <td>0</td>\n",
       "      <td>0</td>\n",
       "      <td>0</td>\n",
       "      <td>0</td>\n",
       "      <td>0</td>\n",
       "      <td>0</td>\n",
       "      <td>...</td>\n",
       "      <td>0</td>\n",
       "      <td>0</td>\n",
       "      <td>0</td>\n",
       "      <td>0</td>\n",
       "      <td>0</td>\n",
       "      <td>0</td>\n",
       "      <td>0</td>\n",
       "      <td>0</td>\n",
       "      <td>0</td>\n",
       "      <td>0</td>\n",
       "    </tr>\n",
       "    <tr>\n",
       "      <th>3</th>\n",
       "      <td>0</td>\n",
       "      <td>0</td>\n",
       "      <td>0</td>\n",
       "      <td>0</td>\n",
       "      <td>0</td>\n",
       "      <td>0</td>\n",
       "      <td>0</td>\n",
       "      <td>0</td>\n",
       "      <td>0</td>\n",
       "      <td>0</td>\n",
       "      <td>...</td>\n",
       "      <td>0</td>\n",
       "      <td>0</td>\n",
       "      <td>0</td>\n",
       "      <td>0</td>\n",
       "      <td>0</td>\n",
       "      <td>0</td>\n",
       "      <td>0</td>\n",
       "      <td>0</td>\n",
       "      <td>0</td>\n",
       "      <td>0</td>\n",
       "    </tr>\n",
       "    <tr>\n",
       "      <th>4</th>\n",
       "      <td>0</td>\n",
       "      <td>0</td>\n",
       "      <td>0</td>\n",
       "      <td>0</td>\n",
       "      <td>0</td>\n",
       "      <td>0</td>\n",
       "      <td>0</td>\n",
       "      <td>0</td>\n",
       "      <td>0</td>\n",
       "      <td>0</td>\n",
       "      <td>...</td>\n",
       "      <td>0</td>\n",
       "      <td>0</td>\n",
       "      <td>0</td>\n",
       "      <td>0</td>\n",
       "      <td>0</td>\n",
       "      <td>0</td>\n",
       "      <td>0</td>\n",
       "      <td>0</td>\n",
       "      <td>0</td>\n",
       "      <td>0</td>\n",
       "    </tr>\n",
       "  </tbody>\n",
       "</table>\n",
       "<p>5 rows × 784 columns</p>\n",
       "</div>"
      ],
      "text/plain": [
       "   pixel0  pixel1  pixel2  pixel3  pixel4  pixel5  pixel6  pixel7  pixel8  \\\n",
       "0       0       0       0       0       0       0       0       0       0   \n",
       "1       0       0       0       0       0       0       0       0       0   \n",
       "2       0       0       0       0       0       0       0       0       0   \n",
       "3       0       0       0       0       0       0       0       0       0   \n",
       "4       0       0       0       0       0       0       0       0       0   \n",
       "\n",
       "   pixel9  ...  pixel774  pixel775  pixel776  pixel777  pixel778  pixel779  \\\n",
       "0       0  ...         0         0         0         0         0         0   \n",
       "1       0  ...         0         0         0         0         0         0   \n",
       "2       0  ...         0         0         0         0         0         0   \n",
       "3       0  ...         0         0         0         0         0         0   \n",
       "4       0  ...         0         0         0         0         0         0   \n",
       "\n",
       "   pixel780  pixel781  pixel782  pixel783  \n",
       "0         0         0         0         0  \n",
       "1         0         0         0         0  \n",
       "2         0         0         0         0  \n",
       "3         0         0         0         0  \n",
       "4         0         0         0         0  \n",
       "\n",
       "[5 rows x 784 columns]"
      ]
     },
     "execution_count": 4,
     "metadata": {},
     "output_type": "execute_result"
    }
   ],
   "source": [
    "test.head(5)"
   ]
  },
  {
   "cell_type": "code",
   "execution_count": 5,
   "metadata": {},
   "outputs": [],
   "source": [
    "# define labels and feature matrix\n",
    "X_train=train.drop(labels = [\"label\"],axis = 1) \n",
    "Y_train=train['label']"
   ]
  },
  {
   "cell_type": "code",
   "execution_count": 6,
   "metadata": {},
   "outputs": [
    {
     "name": "stdout",
     "output_type": "stream",
     "text": [
      "(42000, 784)\n",
      "(42000,)\n"
     ]
    }
   ],
   "source": [
    "print(X_train.shape)\n",
    "print(Y_train.shape)"
   ]
  },
  {
   "cell_type": "code",
   "execution_count": 7,
   "metadata": {},
   "outputs": [
    {
     "data": {
      "text/plain": [
       "1    4684\n",
       "7    4401\n",
       "3    4351\n",
       "9    4188\n",
       "2    4177\n",
       "6    4137\n",
       "0    4132\n",
       "4    4072\n",
       "8    4063\n",
       "5    3795\n",
       "Name: label, dtype: int64"
      ]
     },
     "execution_count": 7,
     "metadata": {},
     "output_type": "execute_result"
    }
   ],
   "source": [
    "# count number of labels from each class\n",
    "Y_train.value_counts()"
   ]
  },
  {
   "cell_type": "code",
   "execution_count": 8,
   "metadata": {},
   "outputs": [
    {
     "data": {
      "image/png": "[encoded data removed]",
      "text/plain": [
       "<Figure size 576x288 with 1 Axes>"
      ]
     },
     "metadata": {
      "needs_background": "light"
     },
     "output_type": "display_data"
    }
   ],
   "source": [
    "#count number of labels from each class and plots these labels distribution\n",
    "import seaborn as sns\n",
    "plt.figure(figsize=(8,4))\n",
    "sns.countplot(x='label', data=train);"
   ]
  },
  {
   "cell_type": "code",
   "execution_count": 9,
   "metadata": {},
   "outputs": [],
   "source": [
    "#Normalizing data\n",
    "X_train=X_train.astype('float32')/255\n",
    "test=test.astype('float32')/255"
   ]
  },
  {
   "cell_type": "code",
   "execution_count": 10,
   "metadata": {},
   "outputs": [],
   "source": [
    "#Reshape\n",
    "#Reshaping image into 3D matrix for network\n",
    "X_train = X_train.values.reshape(-1,28,28,1)\n",
    "test = test.values.reshape(-1,28,28,1)"
   ]
  },
  {
   "cell_type": "code",
   "execution_count": 11,
   "metadata": {},
   "outputs": [
    {
     "data": {
      "text/plain": [
       "(42000, 28, 28, 1)"
      ]
     },
     "execution_count": 11,
     "metadata": {},
     "output_type": "execute_result"
    }
   ],
   "source": [
    "X_train.shape"
   ]
  },
  {
   "cell_type": "code",
   "execution_count": 12,
   "metadata": {},
   "outputs": [
    {
     "data": {
      "text/plain": [
       "(28000, 28, 28, 1)"
      ]
     },
     "execution_count": 12,
     "metadata": {},
     "output_type": "execute_result"
    }
   ],
   "source": [
    "test.shape"
   ]
  },
  {
   "cell_type": "code",
   "execution_count": 13,
   "metadata": {},
   "outputs": [
    {
     "name": "stderr",
     "output_type": "stream",
     "text": [
      "Using TensorFlow backend.\n"
     ]
    },
    {
     "name": "stdout",
     "output_type": "stream",
     "text": [
      "[[0. 1. 0. 0. 0. 0. 0. 0. 0. 0.]\n",
      " [1. 0. 0. 0. 0. 0. 0. 0. 0. 0.]\n",
      " [0. 1. 0. 0. 0. 0. 0. 0. 0. 0.]\n",
      " [0. 0. 0. 0. 1. 0. 0. 0. 0. 0.]\n",
      " [1. 0. 0. 0. 0. 0. 0. 0. 0. 0.]]\n"
     ]
    }
   ],
   "source": [
    "# converts labels into categorical function\n",
    "from keras.utils.np_utils import to_categorical\n",
    "Y_train = to_categorical(Y_train, num_classes = 10)\n",
    "\n",
    "Y_train.shape\n",
    "print(Y_train[:5])"
   ]
  },
  {
   "cell_type": "code",
   "execution_count": 14,
   "metadata": {},
   "outputs": [
    {
     "data": {
      "text/plain": [
       "(42000, 10)"
      ]
     },
     "execution_count": 14,
     "metadata": {},
     "output_type": "execute_result"
    }
   ],
   "source": [
    "Y_train.shape"
   ]
  },
  {
   "cell_type": "code",
   "execution_count": 15,
   "metadata": {},
   "outputs": [],
   "source": [
    "#Now we will split training data into training data and validation data\n",
    "from sklearn.model_selection import train_test_split\n",
    "X_train, X_valid, Y_train, Y_valid = train_test_split(X_train, Y_train, test_size = 0.1, random_state=42)"
   ]
  },
  {
   "cell_type": "code",
   "execution_count": 16,
   "metadata": {},
   "outputs": [
    {
     "data": {
      "text/plain": [
       "(37800, 28, 28, 1)"
      ]
     },
     "execution_count": 16,
     "metadata": {},
     "output_type": "execute_result"
    }
   ],
   "source": [
    "X_train.shape"
   ]
  },
  {
   "cell_type": "code",
   "execution_count": 17,
   "metadata": {},
   "outputs": [
    {
     "data": {
      "text/plain": [
       "(37800, 10)"
      ]
     },
     "execution_count": 17,
     "metadata": {},
     "output_type": "execute_result"
    }
   ],
   "source": [
    "Y_train.shape"
   ]
  },
  {
   "cell_type": "code",
   "execution_count": 19,
   "metadata": {},
   "outputs": [
    {
     "data": {
      "text/plain": [
       "(4200, 28, 28, 1)"
      ]
     },
     "execution_count": 19,
     "metadata": {},
     "output_type": "execute_result"
    }
   ],
   "source": [
    "X_valid.shape"
   ]
  },
  {
   "cell_type": "code",
   "execution_count": 20,
   "metadata": {},
   "outputs": [
    {
     "data": {
      "text/plain": [
       "(4200, 10)"
      ]
     },
     "execution_count": 20,
     "metadata": {},
     "output_type": "execute_result"
    }
   ],
   "source": [
    "Y_valid.shape"
   ]
  },
  {
   "cell_type": "code",
   "execution_count": 23,
   "metadata": {},
   "outputs": [
    {
     "data": {
      "text/plain": [
       "Text(0.5, 1.0, '6')"
      ]
     },
     "execution_count": 23,
     "metadata": {},
     "output_type": "execute_result"
    },
    {
     "data": {
      "image/png": "[encoded data removed]",
      "text/plain": [
       "<Figure size 432x432 with 1 Axes>"
      ]
     },
     "metadata": {
      "needs_background": "light"
     },
     "output_type": "display_data"
    }
   ],
   "source": [
    "plt.figure(figsize=(6,6))\n",
    "plt.imshow(X_train[2][:,:,0])\n",
    "plt.title(Y_train[2].argmax())"
   ]
  },
  {
   "cell_type": "code",
   "execution_count": 27,
   "metadata": {},
   "outputs": [],
   "source": [
    "#Defining cnn model\n",
    "import keras\n",
    "from keras.layers import Input,InputLayer, Dense, Activation, ZeroPadding2D, BatchNormalization, Flatten, Conv2D\n",
    "from keras.layers import AveragePooling2D, MaxPooling2D, Dropout\n",
    "from keras.models import Sequential,Model\n",
    "from keras.optimizers import SGD\n",
    "from keras.callbacks import ModelCheckpoint,LearningRateScheduler\n",
    "from keras import backend as K\n",
    "from keras.optimizers import RMSprop"
   ]
  },
  {
   "cell_type": "code",
   "execution_count": 28,
   "metadata": {},
   "outputs": [],
   "source": [
    "num_classes=10\n",
    "model = Sequential()\n",
    "model.add(Conv2D(30, (5, 5), input_shape=(28,28,1), activation='relu'))\n",
    "model.add(MaxPooling2D(pool_size=(2, 2)))\n",
    "model.add(Conv2D(15, (3, 3), activation='relu'))\n",
    "model.add(MaxPooling2D(pool_size=(2, 2)))\n",
    "model.add(Dropout(0.2))\n",
    "model.add(Flatten())\n",
    "model.add(Dense(128, activation='relu'))\n",
    "\n",
    "model.add(Dense(50, activation='relu'))\n",
    "\n",
    "model.add(Dense(num_classes, activation='softmax'))  \n",
    "\n",
    "model.compile(loss='categorical_crossentropy', \n",
    "              optimizer=RMSprop(), metrics=['accuracy'])"
   ]
  },
  {
   "cell_type": "code",
   "execution_count": 29,
   "metadata": {},
   "outputs": [
    {
     "name": "stdout",
     "output_type": "stream",
     "text": [
      "_________________________________________________________________\n",
      "Layer (type)                 Output Shape              Param #   \n",
      "=================================================================\n",
      "conv2d_5 (Conv2D)            (None, 24, 24, 30)        780       \n",
      "_________________________________________________________________\n",
      "max_pooling2d_5 (MaxPooling2 (None, 12, 12, 30)        0         \n",
      "_________________________________________________________________\n",
      "conv2d_6 (Conv2D)            (None, 10, 10, 15)        4065      \n",
      "_________________________________________________________________\n",
      "max_pooling2d_6 (MaxPooling2 (None, 5, 5, 15)          0         \n",
      "_________________________________________________________________\n",
      "dropout_3 (Dropout)          (None, 5, 5, 15)          0         \n",
      "_________________________________________________________________\n",
      "flatten_3 (Flatten)          (None, 375)               0         \n",
      "_________________________________________________________________\n",
      "dense_6 (Dense)              (None, 128)               48128     \n",
      "_________________________________________________________________\n",
      "dense_7 (Dense)              (None, 50)                6450      \n",
      "_________________________________________________________________\n",
      "dense_8 (Dense)              (None, 10)                510       \n",
      "=================================================================\n",
      "Total params: 59,933\n",
      "Trainable params: 59,933\n",
      "Non-trainable params: 0\n",
      "_________________________________________________________________\n"
     ]
    }
   ],
   "source": [
    "model.summary()"
   ]
  },
  {
   "cell_type": "code",
   "execution_count": 31,
   "metadata": {},
   "outputs": [
    {
     "name": "stdout",
     "output_type": "stream",
     "text": [
      "Train on 34020 samples, validate on 3780 samples\n",
      "Epoch 1/50\n",
      "34020/34020 [==============================] - 21s 631us/step - loss: 0.3946 - acc: 0.8737 - val_loss: 0.2049 - val_acc: 0.9357\n",
      "Epoch 2/50\n",
      "34020/34020 [==============================] - 21s 608us/step - loss: 0.1061 - acc: 0.9669 - val_loss: 0.0740 - val_acc: 0.9791\n",
      "Epoch 3/50\n",
      "34020/34020 [==============================] - 20s 601us/step - loss: 0.0777 - acc: 0.9765 - val_loss: 0.0892 - val_acc: 0.9690\n",
      "Epoch 4/50\n",
      "34020/34020 [==============================] - 21s 619us/step - loss: 0.0622 - acc: 0.9813 - val_loss: 0.0953 - val_acc: 0.9706\n",
      "Epoch 5/50\n",
      "34020/34020 [==============================] - 21s 604us/step - loss: 0.0540 - acc: 0.9824 - val_loss: 0.0584 - val_acc: 0.9839\n",
      "Epoch 6/50\n",
      "34020/34020 [==============================] - 20s 598us/step - loss: 0.0497 - acc: 0.9839 - val_loss: 0.0498 - val_acc: 0.9854\n",
      "Epoch 7/50\n",
      "34020/34020 [==============================] - 21s 613us/step - loss: 0.0424 - acc: 0.9857 - val_loss: 0.0500 - val_acc: 0.9844\n",
      "Epoch 8/50\n",
      "34020/34020 [==============================] - 22s 637us/step - loss: 0.0387 - acc: 0.9870 - val_loss: 0.0414 - val_acc: 0.9881\n",
      "Epoch 9/50\n",
      "34020/34020 [==============================] - 22s 632us/step - loss: 0.0337 - acc: 0.9887 - val_loss: 0.0453 - val_acc: 0.9857\n",
      "Epoch 10/50\n",
      "34020/34020 [==============================] - 21s 616us/step - loss: 0.0316 - acc: 0.9897 - val_loss: 0.0433 - val_acc: 0.9873\n",
      "Epoch 11/50\n",
      "34020/34020 [==============================] - 21s 603us/step - loss: 0.0299 - acc: 0.9899 - val_loss: 0.0425 - val_acc: 0.9894\n",
      "Epoch 12/50\n",
      "34020/34020 [==============================] - 20s 594us/step - loss: 0.0278 - acc: 0.9909 - val_loss: 0.0436 - val_acc: 0.9886\n",
      "Epoch 13/50\n",
      "34020/34020 [==============================] - 20s 593us/step - loss: 0.0258 - acc: 0.9919 - val_loss: 0.0406 - val_acc: 0.9876\n",
      "Epoch 14/50\n",
      "34020/34020 [==============================] - 20s 589us/step - loss: 0.0226 - acc: 0.9930 - val_loss: 0.0413 - val_acc: 0.9878\n",
      "Epoch 15/50\n",
      "34020/34020 [==============================] - 20s 584us/step - loss: 0.0221 - acc: 0.9927 - val_loss: 0.0389 - val_acc: 0.9881\n",
      "Epoch 16/50\n",
      "34020/34020 [==============================] - 20s 581us/step - loss: 0.0204 - acc: 0.9937 - val_loss: 0.0373 - val_acc: 0.9889\n",
      "Epoch 17/50\n",
      "34020/34020 [==============================] - 20s 587us/step - loss: 0.0205 - acc: 0.9935 - val_loss: 0.0393 - val_acc: 0.9884\n",
      "Epoch 18/50\n",
      "34020/34020 [==============================] - 20s 589us/step - loss: 0.0184 - acc: 0.9939 - val_loss: 0.0393 - val_acc: 0.9889\n",
      "Epoch 19/50\n",
      "34020/34020 [==============================] - 20s 590us/step - loss: 0.0186 - acc: 0.9939 - val_loss: 0.0379 - val_acc: 0.9910\n",
      "Epoch 20/50\n",
      "34020/34020 [==============================] - 20s 594us/step - loss: 0.0188 - acc: 0.9938 - val_loss: 0.0420 - val_acc: 0.9894\n",
      "Epoch 21/50\n",
      "34020/34020 [==============================] - 20s 585us/step - loss: 0.0172 - acc: 0.9943 - val_loss: 0.0453 - val_acc: 0.9884\n",
      "Epoch 22/50\n",
      "34020/34020 [==============================] - 20s 587us/step - loss: 0.0138 - acc: 0.9954 - val_loss: 0.0434 - val_acc: 0.9897\n",
      "Epoch 23/50\n",
      "34020/34020 [==============================] - 20s 589us/step - loss: 0.0153 - acc: 0.9954 - val_loss: 0.0506 - val_acc: 0.9878\n",
      "Epoch 24/50\n",
      "34020/34020 [==============================] - 21s 603us/step - loss: 0.0151 - acc: 0.9951 - val_loss: 0.0453 - val_acc: 0.9870\n",
      "Epoch 25/50\n",
      "34020/34020 [==============================] - 21s 624us/step - loss: 0.0134 - acc: 0.9955 - val_loss: 0.0468 - val_acc: 0.9886\n",
      "Epoch 26/50\n",
      "34020/34020 [==============================] - 21s 624us/step - loss: 0.0137 - acc: 0.9958 - val_loss: 0.0413 - val_acc: 0.9899\n",
      "Epoch 27/50\n",
      "34020/34020 [==============================] - 21s 611us/step - loss: 0.0140 - acc: 0.9959 - val_loss: 0.0533 - val_acc: 0.9899\n",
      "Epoch 28/50\n",
      "34020/34020 [==============================] - 20s 592us/step - loss: 0.0121 - acc: 0.9961 - val_loss: 0.0523 - val_acc: 0.9881\n",
      "Epoch 29/50\n",
      "34020/34020 [==============================] - 20s 597us/step - loss: 0.0145 - acc: 0.9953 - val_loss: 0.0438 - val_acc: 0.9878\n",
      "Epoch 30/50\n",
      "34020/34020 [==============================] - 20s 587us/step - loss: 0.0118 - acc: 0.9962 - val_loss: 0.0493 - val_acc: 0.9894\n",
      "Epoch 31/50\n",
      "34020/34020 [==============================] - 20s 596us/step - loss: 0.0105 - acc: 0.9965 - val_loss: 0.0520 - val_acc: 0.9902\n",
      "Epoch 32/50\n",
      "34020/34020 [==============================] - 20s 591us/step - loss: 0.0146 - acc: 0.9954 - val_loss: 0.0544 - val_acc: 0.9873\n",
      "Epoch 33/50\n",
      "34020/34020 [==============================] - 21s 611us/step - loss: 0.0106 - acc: 0.9966 - val_loss: 0.0489 - val_acc: 0.9889\n",
      "Epoch 34/50\n",
      "34020/34020 [==============================] - 20s 591us/step - loss: 0.0111 - acc: 0.9965 - val_loss: 0.0447 - val_acc: 0.9907\n",
      "Epoch 35/50\n",
      "34020/34020 [==============================] - 20s 596us/step - loss: 0.0123 - acc: 0.9966 - val_loss: 0.0516 - val_acc: 0.9894\n",
      "Epoch 36/50\n",
      "34020/34020 [==============================] - 20s 590us/step - loss: 0.0098 - acc: 0.9969 - val_loss: 0.0534 - val_acc: 0.9860\n",
      "Epoch 37/50\n",
      "34020/34020 [==============================] - 20s 590us/step - loss: 0.0096 - acc: 0.9969 - val_loss: 0.0470 - val_acc: 0.9892\n",
      "Epoch 38/50\n",
      "34020/34020 [==============================] - 20s 588us/step - loss: 0.0109 - acc: 0.9967 - val_loss: 0.0481 - val_acc: 0.9902\n",
      "Epoch 39/50\n",
      "34020/34020 [==============================] - 20s 588us/step - loss: 0.0095 - acc: 0.9969 - val_loss: 0.0443 - val_acc: 0.9897\n",
      "Epoch 40/50\n",
      "34020/34020 [==============================] - 20s 592us/step - loss: 0.0098 - acc: 0.9968 - val_loss: 0.0652 - val_acc: 0.9865\n",
      "Epoch 41/50\n",
      "34020/34020 [==============================] - 20s 593us/step - loss: 0.0095 - acc: 0.9970 - val_loss: 0.0561 - val_acc: 0.9886\n",
      "Epoch 42/50\n",
      "34020/34020 [==============================] - 20s 590us/step - loss: 0.0092 - acc: 0.9973 - val_loss: 0.0660 - val_acc: 0.9884\n",
      "Epoch 43/50\n",
      "34020/34020 [==============================] - 20s 594us/step - loss: 0.0099 - acc: 0.9971 - val_loss: 0.0534 - val_acc: 0.9894\n",
      "Epoch 44/50\n",
      "34020/34020 [==============================] - 20s 598us/step - loss: 0.0087 - acc: 0.9974 - val_loss: 0.0529 - val_acc: 0.9897\n",
      "Epoch 45/50\n",
      "34020/34020 [==============================] - 20s 584us/step - loss: 0.0107 - acc: 0.9969 - val_loss: 0.0597 - val_acc: 0.9884\n",
      "Epoch 46/50\n",
      "34020/34020 [==============================] - 20s 588us/step - loss: 0.0099 - acc: 0.9971 - val_loss: 0.0530 - val_acc: 0.9881\n",
      "Epoch 47/50\n",
      "34020/34020 [==============================] - 20s 593us/step - loss: 0.0087 - acc: 0.9972 - val_loss: 0.0616 - val_acc: 0.9886\n",
      "Epoch 48/50\n",
      "34020/34020 [==============================] - 20s 587us/step - loss: 0.0083 - acc: 0.9974 - val_loss: 0.0548 - val_acc: 0.9894\n"
     ]
    }
   ],
   "source": [
    "callbacks_list = [\n",
    "    keras.callbacks.ModelCheckpoint(\n",
    "        filepath='best_modellstmmulti.{epoch:02d}-{val_loss:.2f}.h5',\n",
    "        monitor='val_loss', save_best_only=True),\n",
    "    keras.callbacks.EarlyStopping(monitor='acc', patience=4)\n",
    "]\n",
    "BATCH_SIZE = 100\n",
    "EPOCHS = 50\n",
    "\n",
    "history = model.fit(X_train,\n",
    "                      Y_train,\n",
    "                      batch_size=BATCH_SIZE,\n",
    "                      epochs=EPOCHS,\n",
    "                      callbacks=callbacks_list,\n",
    "                      validation_split=0.1,\n",
    "                      verbose=1)\n"
   ]
  },
  {
   "cell_type": "code",
   "execution_count": 32,
   "metadata": {},
   "outputs": [
    {
     "data": {
      "image/png": "[encoded data removed]",
      "text/plain": [
       "<Figure size 720x720 with 1 Axes>"
      ]
     },
     "metadata": {
      "needs_background": "light"
     },
     "output_type": "display_data"
    }
   ],
   "source": [
    "plt.figure(figsize=(10, 10))\n",
    "plt.plot(history.history['acc'], 'r', label='Accuracy of training data')\n",
    "plt.plot(history.history['val_acc'], 'b', label='Accuracy of validation data')\n",
    "plt.plot(history.history['loss'], 'r--', label='Loss of training data')\n",
    "plt.plot(history.history['val_loss'], 'b--', label='Loss of validation data')\n",
    "plt.title('Model Accuracy and Loss')\n",
    "plt.ylabel('Accuracy and Loss')\n",
    "plt.xlabel('Training Epoch')\n",
    "plt.ylim(0)\n",
    "plt.legend()\n",
    "plt.show()\n"
   ]
  },
  {
   "cell_type": "code",
   "execution_count": 33,
   "metadata": {},
   "outputs": [
    {
     "data": {
      "image/png": "[encoded data removed]",
      "text/plain": [
       "<Figure size 432x288 with 1 Axes>"
      ]
     },
     "metadata": {
      "needs_background": "light"
     },
     "output_type": "display_data"
    }
   ],
   "source": [
    "#model Evaluation\n",
    "#4.1 plotting training and validation loss\n",
    "import matplotlib.pyplot as plt\n",
    "loss = history.history['loss']\n",
    "val_loss = history.history['val_loss']\n",
    "epochs = range(1, len(loss) + 1)\n",
    "plt.plot(epochs, loss, color='red', label='Training loss')\n",
    "plt.plot(epochs, val_loss, color='green', label='Validation loss')\n",
    "plt.title('Training and validation loss')\n",
    "plt.xlabel('Epochs')\n",
    "plt.ylabel('Loss')\n",
    "plt.legend()\n",
    "plt.show()"
   ]
  },
  {
   "cell_type": "code",
   "execution_count": 34,
   "metadata": {},
   "outputs": [
    {
     "data": {
      "image/png": "[encoded data removed]",
      "text/plain": [
       "<Figure size 432x288 with 1 Axes>"
      ]
     },
     "metadata": {
      "needs_background": "light"
     },
     "output_type": "display_data"
    }
   ],
   "source": [
    "#plotting training and validation accuracy\n",
    "acc = history.history['acc']\n",
    "val_acc = history.history['val_acc']\n",
    "plt.plot(epochs, acc, color='red', label='Training acc')\n",
    "plt.plot(epochs, val_acc, color='green', label='Validation acc')\n",
    "plt.title('Training and validation accuracy')\n",
    "plt.xlabel('Epochs')\n",
    "plt.ylabel('Loss')\n",
    "plt.legend()\n",
    "plt.show()\n"
   ]
  },
  {
   "cell_type": "code",
   "execution_count": 36,
   "metadata": {},
   "outputs": [
    {
     "name": "stdout",
     "output_type": "stream",
     "text": [
      "4200/4200 [==============================] - 1s 242us/step\n",
      "\n",
      "Accuracy on test data: 0.99\n",
      "\n",
      "Loss on test data: 0.05\n"
     ]
    }
   ],
   "source": [
    "#%accuracy on test data\n",
    "score = model.evaluate(X_valid, Y_valid, verbose=1)\n",
    "print('\\nAccuracy on test data: %0.2f' % score[1])\n",
    "print('\\nLoss on test data: %0.2f' % score[0])"
   ]
  },
  {
   "cell_type": "code",
   "execution_count": 38,
   "metadata": {},
   "outputs": [],
   "source": [
    "# plot ROC curves for binary classifier\n",
    "from sklearn.metrics import roc_auc_score\n",
    "from sklearn.metrics import roc_curve\n",
    "model1prediction=model.predict(X_valid)"
   ]
  },
  {
   "cell_type": "code",
   "execution_count": 39,
   "metadata": {},
   "outputs": [
    {
     "data": {
      "text/plain": [
       "(4200, 10)"
      ]
     },
     "execution_count": 39,
     "metadata": {},
     "output_type": "execute_result"
    }
   ],
   "source": [
    "model1prediction.shape"
   ]
  },
  {
   "cell_type": "code",
   "execution_count": 40,
   "metadata": {},
   "outputs": [
    {
     "name": "stdout",
     "output_type": "stream",
     "text": [
      "[[2.09933982e-15 3.55169893e-14 1.80762016e-10 6.80476508e-12\n",
      "  1.31776304e-16 2.93494766e-17 1.16796158e-19 9.29670498e-15\n",
      "  1.00000000e+00 1.20724664e-09]\n",
      " [6.09404766e-14 1.00000000e+00 9.49732827e-12 9.78458032e-22\n",
      "  1.91196881e-09 5.24507947e-17 1.52720111e-12 5.76170400e-09\n",
      "  1.19821785e-12 3.52976919e-11]\n",
      " [2.38956825e-15 2.24764846e-12 5.24546986e-13 1.35600916e-12\n",
      "  6.87611958e-08 9.55685704e-12 1.07850885e-17 1.08521969e-09\n",
      "  4.44777298e-10 9.99999881e-01]\n",
      " [7.04124526e-17 3.07412461e-15 3.85273038e-14 2.63677058e-15\n",
      "  2.49471804e-10 2.07991020e-11 4.09072898e-20 2.02145785e-08\n",
      "  8.68218778e-12 1.00000000e+00]\n",
      " [1.46672563e-25 2.55467997e-23 1.88010915e-20 5.34467202e-18\n",
      "  1.07988796e-25 2.53719850e-23 2.53745600e-26 4.49131670e-26\n",
      "  1.00000000e+00 7.60050925e-19]]\n"
     ]
    }
   ],
   "source": [
    "print(model1prediction[:5])"
   ]
  },
  {
   "cell_type": "code",
   "execution_count": 47,
   "metadata": {},
   "outputs": [],
   "source": [
    "model1prediction1=model1prediction[:,1]"
   ]
  },
  {
   "cell_type": "code",
   "execution_count": 49,
   "metadata": {},
   "outputs": [
    {
     "name": "stdout",
     "output_type": "stream",
     "text": [
      "(4200,)\n",
      "[3.5516989e-14 1.0000000e+00 2.2476485e-12 3.0741246e-15 2.5546800e-23]\n"
     ]
    }
   ],
   "source": [
    "print(model1prediction1.shape)\n",
    "print(model1prediction1[:5])"
   ]
  },
  {
   "cell_type": "code",
   "execution_count": 44,
   "metadata": {},
   "outputs": [],
   "source": [
    "max_y_test = np.argmax(Y_valid, axis=1)"
   ]
  },
  {
   "cell_type": "code",
   "execution_count": 53,
   "metadata": {},
   "outputs": [
    {
     "data": {
      "text/plain": [
       "(4200,)"
      ]
     },
     "execution_count": 53,
     "metadata": {},
     "output_type": "execute_result"
    }
   ],
   "source": [
    "max_y_test.shape"
   ]
  },
  {
   "cell_type": "code",
   "execution_count": null,
   "metadata": {},
   "outputs": [],
   "source": [
    "#%accuracy on test data\n",
    "score = modelnew.evaluate(X_valid, Y_valid, verbose=1)\n",
    "print('\\nAccuracy on test data: %0.2f' % score[1])\n",
    "print('\\nLoss on test data: %0.2f' % score[0])"
   ]
  },
  {
   "cell_type": "code",
   "execution_count": 54,
   "metadata": {},
   "outputs": [
    {
     "name": "stdout",
     "output_type": "stream",
     "text": [
      "<keras.layers.convolutional.Conv2D object at 0x00000283838C1A20>\n",
      "<keras.layers.pooling.MaxPooling2D object at 0x00000283838F2F28>\n",
      "<keras.layers.convolutional.Conv2D object at 0x00000283838CDBE0>\n",
      "<keras.layers.pooling.MaxPooling2D object at 0x0000028383935358>\n",
      "<keras.layers.core.Dropout object at 0x000002838204AB00>\n",
      "<keras.layers.core.Flatten object at 0x0000028383978B70>\n",
      "<keras.layers.core.Dense object at 0x0000028383978DA0>\n",
      "<keras.layers.core.Dense object at 0x00000283839448D0>\n",
      "<keras.layers.core.Dense object at 0x00000283839CFC50>\n"
     ]
    }
   ],
   "source": [
    "for layer in model.layers:\n",
    "    print(layer)"
   ]
  },
  {
   "cell_type": "code",
   "execution_count": 55,
   "metadata": {},
   "outputs": [
    {
     "data": {
      "text/plain": [
       "[{'class_name': 'Conv2D',\n",
       "  'config': {'name': 'conv2d_5',\n",
       "   'trainable': True,\n",
       "   'batch_input_shape': (None, 28, 28, 1),\n",
       "   'dtype': 'float32',\n",
       "   'filters': 30,\n",
       "   'kernel_size': (5, 5),\n",
       "   'strides': (1, 1),\n",
       "   'padding': 'valid',\n",
       "   'data_format': 'channels_last',\n",
       "   'dilation_rate': (1, 1),\n",
       "   'activation': 'relu',\n",
       "   'use_bias': True,\n",
       "   'kernel_initializer': {'class_name': 'VarianceScaling',\n",
       "    'config': {'scale': 1.0,\n",
       "     'mode': 'fan_avg',\n",
       "     'distribution': 'uniform',\n",
       "     'seed': None}},\n",
       "   'bias_initializer': {'class_name': 'Zeros', 'config': {}},\n",
       "   'kernel_regularizer': None,\n",
       "   'bias_regularizer': None,\n",
       "   'activity_regularizer': None,\n",
       "   'kernel_constraint': None,\n",
       "   'bias_constraint': None}},\n",
       " {'class_name': 'MaxPooling2D',\n",
       "  'config': {'name': 'max_pooling2d_5',\n",
       "   'trainable': True,\n",
       "   'pool_size': (2, 2),\n",
       "   'padding': 'valid',\n",
       "   'strides': (2, 2),\n",
       "   'data_format': 'channels_last'}},\n",
       " {'class_name': 'Conv2D',\n",
       "  'config': {'name': 'conv2d_6',\n",
       "   'trainable': True,\n",
       "   'filters': 15,\n",
       "   'kernel_size': (3, 3),\n",
       "   'strides': (1, 1),\n",
       "   'padding': 'valid',\n",
       "   'data_format': 'channels_last',\n",
       "   'dilation_rate': (1, 1),\n",
       "   'activation': 'relu',\n",
       "   'use_bias': True,\n",
       "   'kernel_initializer': {'class_name': 'VarianceScaling',\n",
       "    'config': {'scale': 1.0,\n",
       "     'mode': 'fan_avg',\n",
       "     'distribution': 'uniform',\n",
       "     'seed': None}},\n",
       "   'bias_initializer': {'class_name': 'Zeros', 'config': {}},\n",
       "   'kernel_regularizer': None,\n",
       "   'bias_regularizer': None,\n",
       "   'activity_regularizer': None,\n",
       "   'kernel_constraint': None,\n",
       "   'bias_constraint': None}},\n",
       " {'class_name': 'MaxPooling2D',\n",
       "  'config': {'name': 'max_pooling2d_6',\n",
       "   'trainable': True,\n",
       "   'pool_size': (2, 2),\n",
       "   'padding': 'valid',\n",
       "   'strides': (2, 2),\n",
       "   'data_format': 'channels_last'}},\n",
       " {'class_name': 'Dropout',\n",
       "  'config': {'name': 'dropout_3',\n",
       "   'trainable': True,\n",
       "   'rate': 0.2,\n",
       "   'noise_shape': None,\n",
       "   'seed': None}},\n",
       " {'class_name': 'Flatten', 'config': {'name': 'flatten_3', 'trainable': True}},\n",
       " {'class_name': 'Dense',\n",
       "  'config': {'name': 'dense_6',\n",
       "   'trainable': True,\n",
       "   'units': 128,\n",
       "   'activation': 'relu',\n",
       "   'use_bias': True,\n",
       "   'kernel_initializer': {'class_name': 'VarianceScaling',\n",
       "    'config': {'scale': 1.0,\n",
       "     'mode': 'fan_avg',\n",
       "     'distribution': 'uniform',\n",
       "     'seed': None}},\n",
       "   'bias_initializer': {'class_name': 'Zeros', 'config': {}},\n",
       "   'kernel_regularizer': None,\n",
       "   'bias_regularizer': None,\n",
       "   'activity_regularizer': None,\n",
       "   'kernel_constraint': None,\n",
       "   'bias_constraint': None}},\n",
       " {'class_name': 'Dense',\n",
       "  'config': {'name': 'dense_7',\n",
       "   'trainable': True,\n",
       "   'units': 50,\n",
       "   'activation': 'relu',\n",
       "   'use_bias': True,\n",
       "   'kernel_initializer': {'class_name': 'VarianceScaling',\n",
       "    'config': {'scale': 1.0,\n",
       "     'mode': 'fan_avg',\n",
       "     'distribution': 'uniform',\n",
       "     'seed': None}},\n",
       "   'bias_initializer': {'class_name': 'Zeros', 'config': {}},\n",
       "   'kernel_regularizer': None,\n",
       "   'bias_regularizer': None,\n",
       "   'activity_regularizer': None,\n",
       "   'kernel_constraint': None,\n",
       "   'bias_constraint': None}},\n",
       " {'class_name': 'Dense',\n",
       "  'config': {'name': 'dense_8',\n",
       "   'trainable': True,\n",
       "   'units': 10,\n",
       "   'activation': 'softmax',\n",
       "   'use_bias': True,\n",
       "   'kernel_initializer': {'class_name': 'VarianceScaling',\n",
       "    'config': {'scale': 1.0,\n",
       "     'mode': 'fan_avg',\n",
       "     'distribution': 'uniform',\n",
       "     'seed': None}},\n",
       "   'bias_initializer': {'class_name': 'Zeros', 'config': {}},\n",
       "   'kernel_regularizer': None,\n",
       "   'bias_regularizer': None,\n",
       "   'activity_regularizer': None,\n",
       "   'kernel_constraint': None,\n",
       "   'bias_constraint': None}}]"
      ]
     },
     "execution_count": 55,
     "metadata": {},
     "output_type": "execute_result"
    }
   ],
   "source": [
    "# how to inspect the each layer of modelmodel.get_config()"
   ]
  },
  {
   "cell_type": "code",
   "execution_count": 56,
   "metadata": {},
   "outputs": [
    {
     "data": {
      "text/plain": [
       "{'name': 'conv2d_5',\n",
       " 'trainable': True,\n",
       " 'batch_input_shape': (None, 28, 28, 1),\n",
       " 'dtype': 'float32',\n",
       " 'filters': 30,\n",
       " 'kernel_size': (5, 5),\n",
       " 'strides': (1, 1),\n",
       " 'padding': 'valid',\n",
       " 'data_format': 'channels_last',\n",
       " 'dilation_rate': (1, 1),\n",
       " 'activation': 'relu',\n",
       " 'use_bias': True,\n",
       " 'kernel_initializer': {'class_name': 'VarianceScaling',\n",
       "  'config': {'scale': 1.0,\n",
       "   'mode': 'fan_avg',\n",
       "   'distribution': 'uniform',\n",
       "   'seed': None}},\n",
       " 'bias_initializer': {'class_name': 'Zeros', 'config': {}},\n",
       " 'kernel_regularizer': None,\n",
       " 'bias_regularizer': None,\n",
       " 'activity_regularizer': None,\n",
       " 'kernel_constraint': None,\n",
       " 'bias_constraint': None}"
      ]
     },
     "execution_count": 56,
     "metadata": {},
     "output_type": "execute_result"
    }
   ],
   "source": [
    "model.layers[0].get_config()"
   ]
  },
  {
   "cell_type": "code",
   "execution_count": 57,
   "metadata": {},
   "outputs": [
    {
     "data": {
      "text/plain": [
       "{'name': 'max_pooling2d_5',\n",
       " 'trainable': True,\n",
       " 'pool_size': (2, 2),\n",
       " 'padding': 'valid',\n",
       " 'strides': (2, 2),\n",
       " 'data_format': 'channels_last'}"
      ]
     },
     "execution_count": 57,
     "metadata": {},
     "output_type": "execute_result"
    }
   ],
   "source": [
    "model.layers[1].get_config()"
   ]
  },
  {
   "cell_type": "code",
   "execution_count": 58,
   "metadata": {},
   "outputs": [
    {
     "data": {
      "text/plain": [
       "{'name': 'conv2d_6',\n",
       " 'trainable': True,\n",
       " 'filters': 15,\n",
       " 'kernel_size': (3, 3),\n",
       " 'strides': (1, 1),\n",
       " 'padding': 'valid',\n",
       " 'data_format': 'channels_last',\n",
       " 'dilation_rate': (1, 1),\n",
       " 'activation': 'relu',\n",
       " 'use_bias': True,\n",
       " 'kernel_initializer': {'class_name': 'VarianceScaling',\n",
       "  'config': {'scale': 1.0,\n",
       "   'mode': 'fan_avg',\n",
       "   'distribution': 'uniform',\n",
       "   'seed': None}},\n",
       " 'bias_initializer': {'class_name': 'Zeros', 'config': {}},\n",
       " 'kernel_regularizer': None,\n",
       " 'bias_regularizer': None,\n",
       " 'activity_regularizer': None,\n",
       " 'kernel_constraint': None,\n",
       " 'bias_constraint': None}"
      ]
     },
     "execution_count": 58,
     "metadata": {},
     "output_type": "execute_result"
    }
   ],
   "source": [
    "model.layers[2].get_config()"
   ]
  },
  {
   "cell_type": "code",
   "execution_count": 59,
   "metadata": {},
   "outputs": [
    {
     "data": {
      "text/plain": [
       "{'name': 'max_pooling2d_6',\n",
       " 'trainable': True,\n",
       " 'pool_size': (2, 2),\n",
       " 'padding': 'valid',\n",
       " 'strides': (2, 2),\n",
       " 'data_format': 'channels_last'}"
      ]
     },
     "execution_count": 59,
     "metadata": {},
     "output_type": "execute_result"
    }
   ],
   "source": [
    "model.layers[3].get_config()"
   ]
  },
  {
   "cell_type": "code",
   "execution_count": 60,
   "metadata": {},
   "outputs": [
    {
     "data": {
      "text/plain": [
       "{'name': 'dropout_3',\n",
       " 'trainable': True,\n",
       " 'rate': 0.2,\n",
       " 'noise_shape': None,\n",
       " 'seed': None}"
      ]
     },
     "execution_count": 60,
     "metadata": {},
     "output_type": "execute_result"
    }
   ],
   "source": [
    "model.layers[4].get_config()"
   ]
  },
  {
   "cell_type": "code",
   "execution_count": 61,
   "metadata": {},
   "outputs": [
    {
     "data": {
      "text/plain": [
       "{'name': 'flatten_3', 'trainable': True}"
      ]
     },
     "execution_count": 61,
     "metadata": {},
     "output_type": "execute_result"
    }
   ],
   "source": [
    "model.layers[5].get_config()"
   ]
  },
  {
   "cell_type": "code",
   "execution_count": 62,
   "metadata": {},
   "outputs": [
    {
     "data": {
      "text/plain": [
       "{'name': 'dense_6',\n",
       " 'trainable': True,\n",
       " 'units': 128,\n",
       " 'activation': 'relu',\n",
       " 'use_bias': True,\n",
       " 'kernel_initializer': {'class_name': 'VarianceScaling',\n",
       "  'config': {'scale': 1.0,\n",
       "   'mode': 'fan_avg',\n",
       "   'distribution': 'uniform',\n",
       "   'seed': None}},\n",
       " 'bias_initializer': {'class_name': 'Zeros', 'config': {}},\n",
       " 'kernel_regularizer': None,\n",
       " 'bias_regularizer': None,\n",
       " 'activity_regularizer': None,\n",
       " 'kernel_constraint': None,\n",
       " 'bias_constraint': None}"
      ]
     },
     "execution_count": 62,
     "metadata": {},
     "output_type": "execute_result"
    }
   ],
   "source": [
    "model.layers[6].get_config()"
   ]
  },
  {
   "cell_type": "code",
   "execution_count": 63,
   "metadata": {},
   "outputs": [
    {
     "data": {
      "text/plain": [
       "{'name': 'dense_7',\n",
       " 'trainable': True,\n",
       " 'units': 50,\n",
       " 'activation': 'relu',\n",
       " 'use_bias': True,\n",
       " 'kernel_initializer': {'class_name': 'VarianceScaling',\n",
       "  'config': {'scale': 1.0,\n",
       "   'mode': 'fan_avg',\n",
       "   'distribution': 'uniform',\n",
       "   'seed': None}},\n",
       " 'bias_initializer': {'class_name': 'Zeros', 'config': {}},\n",
       " 'kernel_regularizer': None,\n",
       " 'bias_regularizer': None,\n",
       " 'activity_regularizer': None,\n",
       " 'kernel_constraint': None,\n",
       " 'bias_constraint': None}"
      ]
     },
     "execution_count": 63,
     "metadata": {},
     "output_type": "execute_result"
    }
   ],
   "source": [
    "model.layers[7].get_config()"
   ]
  },
  {
   "cell_type": "code",
   "execution_count": 64,
   "metadata": {},
   "outputs": [
    {
     "data": {
      "text/plain": [
       "{'name': 'dense_8',\n",
       " 'trainable': True,\n",
       " 'units': 10,\n",
       " 'activation': 'softmax',\n",
       " 'use_bias': True,\n",
       " 'kernel_initializer': {'class_name': 'VarianceScaling',\n",
       "  'config': {'scale': 1.0,\n",
       "   'mode': 'fan_avg',\n",
       "   'distribution': 'uniform',\n",
       "   'seed': None}},\n",
       " 'bias_initializer': {'class_name': 'Zeros', 'config': {}},\n",
       " 'kernel_regularizer': None,\n",
       " 'bias_regularizer': None,\n",
       " 'activity_regularizer': None,\n",
       " 'kernel_constraint': None,\n",
       " 'bias_constraint': None}"
      ]
     },
     "execution_count": 64,
     "metadata": {},
     "output_type": "execute_result"
    }
   ],
   "source": [
    "model.layers[8].get_config()"
   ]
  },
  {
   "cell_type": "code",
   "execution_count": 69,
   "metadata": {},
   "outputs": [
    {
     "name": "stdout",
     "output_type": "stream",
     "text": [
      "(None, 28, 28, 1)\n",
      "(None, 24, 24, 30)\n",
      "(None, 24, 24, 30)\n",
      "(None, 12, 12, 30)\n",
      "(None, 12, 12, 30)\n",
      "(None, 10, 10, 15)\n",
      "(None, 10, 10, 15)\n",
      "(None, 5, 5, 15)\n",
      "(None, 5, 5, 15)\n",
      "(None, 5, 5, 15)\n",
      "(None, 5, 5, 15)\n",
      "(None, 375)\n",
      "(None, 375)\n",
      "(None, 128)\n",
      "(None, 128)\n",
      "(None, 50)\n",
      "(None, 50)\n",
      "(None, 10)\n"
     ]
    }
   ],
   "source": [
    "print(model.layers[0].input_shape)\n",
    "print(model.layers[0].output_shape)\n",
    "print(model.layers[1].input_shape)\n",
    "print(model.layers[1].output_shape)\n",
    "print(model.layers[2].input_shape)\n",
    "print(model.layers[2].output_shape)\n",
    "print(model.layers[3].input_shape)\n",
    "print(model.layers[3].output_shape)\n",
    "print(model.layers[4].input_shape)\n",
    "print(model.layers[4].output_shape)\n",
    "print(model.layers[5].input_shape)\n",
    "print(model.layers[5].output_shape)\n",
    "print(model.layers[6].input_shape)\n",
    "print(model.layers[6].output_shape)\n",
    "print(model.layers[7].input_shape)\n",
    "print(model.layers[7].output_shape)\n",
    "print(model.layers[8].input_shape)\n",
    "print(model.layers[8].output_shape)"
   ]
  },
  {
   "cell_type": "code",
   "execution_count": 71,
   "metadata": {},
   "outputs": [
    {
     "name": "stdout",
     "output_type": "stream",
     "text": [
      "780\n",
      "0\n",
      "4065\n",
      "0\n",
      "0\n",
      "0\n",
      "48128\n",
      "6450\n",
      "510\n"
     ]
    }
   ],
   "source": [
    "# count the parameters in each layer and complete model\n",
    "model.layers[0].count_params()\n",
    "print(model.layers[0].count_params())\n",
    "print(model.layers[1].count_params())\n",
    "print(model.layers[2].count_params())\n",
    "print(model.layers[3].count_params())\n",
    "print(model.layers[4].count_params())\n",
    "print(model.layers[5].count_params())\n",
    "print(model.layers[6].count_params())\n",
    "print(model.layers[7].count_params())\n",
    "print(model.layers[8].count_params())"
   ]
  },
  {
   "cell_type": "code",
   "execution_count": 72,
   "metadata": {},
   "outputs": [
    {
     "data": {
      "text/plain": [
       "[array([[[[-1.37243137e-01,  6.07837327e-02,  6.48896545e-02,\n",
       "            1.69403423e-02,  1.59990534e-01, -1.13212289e-02,\n",
       "            2.07557961e-01, -2.48336773e-02, -1.50940329e-01,\n",
       "            2.57281184e-01,  9.68661830e-02,  5.33147603e-02,\n",
       "           -1.80480536e-02,  1.57751113e-01,  4.58349772e-02,\n",
       "           -2.38999799e-01, -1.27454728e-01,  5.32940850e-02,\n",
       "            9.31089651e-03,  1.75784290e-01,  7.30737075e-02,\n",
       "            5.73544987e-02, -8.74946341e-02,  4.61773947e-02,\n",
       "           -1.94279522e-01, -2.67310236e-02, -7.90503547e-02,\n",
       "           -1.45813450e-01,  1.07641235e-01, -8.35294276e-02]],\n",
       " \n",
       "         [[-3.52805504e-03,  9.70070343e-03, -2.08714217e-01,\n",
       "           -2.04297632e-01,  4.65521775e-02,  1.28042117e-01,\n",
       "            3.25336196e-02, -4.22399520e-04, -3.18374693e-01,\n",
       "            6.04610667e-02,  5.17282970e-02,  1.37862831e-01,\n",
       "            1.90504398e-02, -6.45543821e-03,  8.62861350e-02,\n",
       "            9.28774402e-02, -3.05291295e-01, -3.25733982e-02,\n",
       "           -6.24249466e-02,  1.64158151e-01,  2.45061874e-01,\n",
       "            1.64540410e-01, -4.86145020e-02,  4.81485501e-02,\n",
       "           -5.16549125e-02, -2.42713645e-01, -1.46632805e-01,\n",
       "           -1.79698348e-01,  8.12441334e-02, -5.22184037e-02]],\n",
       " \n",
       "         [[-1.08953714e-01, -2.33440455e-02, -1.33281559e-01,\n",
       "            1.07015660e-02, -4.81889322e-02, -2.92128436e-02,\n",
       "           -2.50625163e-01,  2.42653415e-02, -2.65680194e-01,\n",
       "            7.85072222e-02, -8.81211162e-02,  1.04500309e-01,\n",
       "            4.74806428e-02, -8.84617865e-02,  1.00778550e-01,\n",
       "            1.87584251e-01, -1.83186159e-01, -1.11916503e-02,\n",
       "           -9.25810635e-02,  9.23099965e-02,  1.28106952e-01,\n",
       "           -1.69565544e-01, -6.80090534e-03,  4.23701778e-02,\n",
       "           -2.72971205e-02, -3.21116596e-01, -5.16436212e-02,\n",
       "           -1.23530650e-03,  1.04186691e-01, -2.29790378e-02]],\n",
       " \n",
       "         [[ 5.17030060e-03, -8.48457515e-02,  4.12925109e-02,\n",
       "            6.43158285e-03,  9.45281982e-02, -1.88885227e-01,\n",
       "           -2.84286559e-01,  6.24622367e-02, -1.97716236e-01,\n",
       "            7.32460320e-02, -2.77302444e-01,  1.37804477e-02,\n",
       "           -2.98861265e-01, -3.33134122e-02,  1.15601689e-01,\n",
       "            2.16553044e-02,  1.51461169e-01, -4.18171138e-02,\n",
       "           -1.75124422e-01, -8.32354575e-02,  1.28634706e-01,\n",
       "           -2.09377199e-01, -1.28137782e-01, -4.54778075e-02,\n",
       "            3.50745395e-02, -2.73969084e-01, -4.32104478e-03,\n",
       "           -3.18513736e-02,  9.28004608e-02, -6.21262239e-03]],\n",
       " \n",
       "         [[ 3.18779908e-02, -1.84014857e-01,  1.66022152e-01,\n",
       "           -3.46872024e-02,  1.25637710e-01, -3.65412652e-01,\n",
       "            5.70410006e-02,  9.53611210e-02, -1.73355043e-01,\n",
       "            1.22487061e-01, -1.94449067e-01,  1.90622117e-02,\n",
       "           -2.66043302e-02,  1.06791429e-01,  7.53509328e-02,\n",
       "           -1.95433870e-02,  1.74607620e-01,  2.26232335e-02,\n",
       "           -4.55884375e-02, -1.33330733e-01,  1.70800641e-01,\n",
       "            1.20003140e-02,  3.76497470e-02, -2.42361754e-01,\n",
       "            3.54768857e-02, -2.39631370e-01,  4.07607071e-02,\n",
       "           -1.36197209e-01, -8.07689205e-02, -6.92848936e-02]]],\n",
       " \n",
       " \n",
       "        [[[-2.47862423e-03, -2.37560235e-02,  1.37119979e-01,\n",
       "           -1.46723613e-01,  4.88398783e-02, -3.38432640e-02,\n",
       "           -1.35940397e-02,  4.39919978e-02,  5.62186092e-02,\n",
       "            1.53509602e-01,  1.22672558e-01,  5.89096211e-02,\n",
       "           -9.76653546e-02,  4.95297089e-02,  8.30822363e-02,\n",
       "           -1.14764199e-01,  7.13678226e-02,  1.35839984e-01,\n",
       "            9.46933404e-03,  7.53161088e-02, -5.41610345e-02,\n",
       "            1.31288469e-01,  1.62950113e-01,  1.25117049e-01,\n",
       "           -1.31103918e-01,  1.91881433e-01,  1.04143135e-02,\n",
       "            1.07814312e-01,  3.07165273e-03, -4.37734276e-01]],\n",
       " \n",
       "         [[-3.71768028e-02, -7.17614144e-02,  6.61353692e-02,\n",
       "           -7.58651793e-02, -5.97913563e-02,  9.63259563e-02,\n",
       "           -1.76879123e-01, -2.64542140e-02, -1.01204500e-01,\n",
       "            6.15830198e-02,  1.26487371e-02,  5.16714491e-02,\n",
       "           -1.42440632e-01, -1.50970221e-01,  1.11379698e-01,\n",
       "            2.20187560e-01, -1.79403007e-01,  2.62678135e-02,\n",
       "            1.92445405e-02,  1.23132486e-02,  9.97688174e-02,\n",
       "            1.20995827e-01,  1.54516757e-01,  1.24840967e-01,\n",
       "           -3.31031755e-02,  6.81879651e-03, -1.64580360e-01,\n",
       "           -6.30568131e-04,  5.28724398e-04, -1.18229054e-02]],\n",
       " \n",
       "         [[-1.28397048e-01,  1.48481846e-01, -2.48139277e-01,\n",
       "           -3.96358743e-02, -9.50944796e-02,  1.43668711e-01,\n",
       "           -4.72228765e-01,  1.31431902e-02, -1.90201998e-01,\n",
       "            1.57581910e-01, -1.15778886e-01, -1.70226127e-01,\n",
       "           -1.35153502e-01,  5.82757145e-02,  1.06803462e-01,\n",
       "            4.23840247e-02, -6.08695924e-01,  9.81948376e-02,\n",
       "            8.83056372e-02, -5.15318103e-02,  1.34326797e-02,\n",
       "           -1.43567398e-01,  3.73361283e-03, -3.29157673e-02,\n",
       "           -1.46759488e-02,  2.30336245e-02, -8.45864695e-03,\n",
       "            1.42981306e-01,  1.17356271e-01,  8.14771354e-02]],\n",
       " \n",
       "         [[ 2.61621457e-02,  9.39796418e-02, -2.15740159e-01,\n",
       "            9.67727304e-02, -7.66118169e-02,  1.72457144e-01,\n",
       "           -5.90449385e-02, -1.17068542e-02,  2.31225882e-02,\n",
       "            1.93334684e-01,  2.67190728e-02, -2.07967699e-01,\n",
       "           -9.60871652e-02,  9.47470963e-02,  1.68831810e-01,\n",
       "           -1.55916154e-01, -2.69363880e-01,  1.07942134e-01,\n",
       "           -2.39945456e-01,  1.18547250e-02, -4.21735384e-02,\n",
       "           -1.53891295e-01, -3.08799148e-02,  4.86685745e-02,\n",
       "            1.43850312e-01, -8.01546276e-02, -4.03357446e-02,\n",
       "            1.14431471e-01,  4.10707369e-02,  1.07561521e-01]],\n",
       " \n",
       "         [[ 6.55072927e-02, -7.89323971e-02, -1.68728292e-01,\n",
       "            9.17869285e-02, -1.31124392e-01, -1.96172759e-01,\n",
       "            2.04884127e-01, -2.65558288e-02,  4.19687405e-02,\n",
       "            1.30203605e-01,  1.15358852e-01, -6.28117174e-02,\n",
       "            6.17206804e-02, -2.28794347e-02, -1.65120363e-01,\n",
       "           -2.73922741e-01, -3.13194275e-01, -1.73941739e-02,\n",
       "           -8.56006369e-02, -4.10362259e-02,  8.39373171e-02,\n",
       "           -1.60873666e-01,  1.37765240e-02, -3.06845605e-01,\n",
       "            1.10274471e-01, -1.68350767e-02,  1.73893437e-01,\n",
       "           -1.22829251e-01,  1.04463637e-01,  1.86814982e-02]]],\n",
       " \n",
       " \n",
       "        [[[ 2.90319789e-02,  3.42006795e-02, -3.68273072e-03,\n",
       "           -1.55474335e-01,  3.62896249e-02, -2.41523370e-01,\n",
       "           -3.71556506e-02, -1.11885093e-01,  9.41348374e-02,\n",
       "           -1.44050688e-01, -1.20455027e-01, -1.10226095e-01,\n",
       "            2.63111115e-01, -1.88437462e-01, -4.71643768e-02,\n",
       "            1.12766989e-01,  3.19786072e-02,  7.52617121e-02,\n",
       "            1.45255908e-01,  6.21861890e-02, -1.07585065e-01,\n",
       "           -1.08077275e-02,  1.45291492e-01,  8.69901702e-02,\n",
       "           -2.87709869e-02,  1.94767252e-01, -2.44980752e-02,\n",
       "            1.42334357e-01, -2.25965977e-01, -2.08489954e-01]],\n",
       " \n",
       "         [[-7.54764527e-02,  6.69736266e-02,  2.60130495e-01,\n",
       "           -2.86092553e-02,  8.54384005e-02,  5.53131960e-02,\n",
       "           -2.58795649e-01,  1.23951711e-01, -3.20340483e-03,\n",
       "            3.85482460e-02, -4.39945400e-01, -2.75880605e-01,\n",
       "            1.93564594e-01, -7.13763833e-02,  1.02990247e-01,\n",
       "            1.18451141e-01,  8.95015150e-02,  1.38912484e-01,\n",
       "            7.34410211e-02,  9.38754380e-02, -6.94125965e-02,\n",
       "           -1.93147529e-02,  4.29199040e-02, -3.01495735e-02,\n",
       "           -1.81148827e-01,  2.13100746e-01,  8.13261569e-02,\n",
       "            5.89796677e-02, -2.53546298e-01, -8.41949508e-02]],\n",
       " \n",
       "         [[ 2.77891308e-02,  6.45505339e-02,  7.58433044e-02,\n",
       "            7.06677660e-02,  7.45426938e-02,  1.58087417e-01,\n",
       "           -2.40990251e-01,  2.72815935e-02, -2.51486469e-02,\n",
       "            1.33861959e-01, -1.62760705e-01, -2.85307139e-01,\n",
       "            6.51374012e-02,  1.02534413e-01,  2.07481295e-01,\n",
       "           -6.93106875e-02, -4.82421219e-02, -3.34097184e-02,\n",
       "            9.56201628e-02,  1.36550805e-02,  8.05102512e-02,\n",
       "           -8.82826187e-03,  5.61029427e-02, -1.01813212e-01,\n",
       "           -2.59042205e-03,  1.23133436e-01,  1.32430464e-01,\n",
       "           -7.38400221e-02, -1.43369483e-02, -2.53377780e-02]],\n",
       " \n",
       "         [[-2.84041483e-02,  2.52579838e-01, -1.47144139e-01,\n",
       "            9.72660407e-02, -4.25926112e-02,  1.27538726e-01,\n",
       "            8.20062384e-02, -2.81322580e-02, -3.80940326e-02,\n",
       "            8.62208381e-03,  1.50766596e-01, -2.41319686e-02,\n",
       "            7.46597797e-02,  1.30767435e-01, -1.23815432e-01,\n",
       "           -1.88657820e-01, -9.24868658e-02,  1.18309662e-01,\n",
       "           -3.45299989e-02, -5.72044589e-03, -3.36919390e-02,\n",
       "           -4.41051051e-02,  1.72464833e-01,  3.02469395e-02,\n",
       "            2.55898514e-04,  1.33373365e-02,  1.42784297e-01,\n",
       "           -1.57047510e-01,  7.24375062e-03,  3.54056358e-02]],\n",
       " \n",
       "         [[ 3.60067338e-02,  1.20214224e-01, -2.50118580e-02,\n",
       "           -1.86934192e-02, -7.21021742e-02,  1.05819196e-01,\n",
       "            1.64750800e-01, -1.88560992e-01,  8.03554244e-03,\n",
       "            7.00905621e-02,  2.58667558e-01,  1.05766557e-01,\n",
       "            2.51427472e-01, -1.22440770e-01, -4.15799886e-01,\n",
       "           -3.66054126e-03, -1.34590149e-01, -2.85428986e-02,\n",
       "           -2.20579021e-02, -1.91666618e-01, -5.30548068e-03,\n",
       "            7.64300078e-02,  9.80743468e-02, -9.52076390e-02,\n",
       "            7.82127157e-02, -1.87993739e-02, -9.06758532e-02,\n",
       "           -1.08206645e-02,  4.97637279e-02,  1.05311647e-01]]],\n",
       " \n",
       " \n",
       "        [[[ 3.08113508e-02,  6.94990829e-02, -6.63431436e-02,\n",
       "            1.08200550e-01, -6.80567548e-02, -1.43856674e-01,\n",
       "           -8.61292779e-02, -4.04096283e-02,  3.99459898e-02,\n",
       "           -2.46688902e-01, -8.67737681e-02, -1.41972333e-01,\n",
       "           -7.01488927e-02,  1.34707540e-01, -8.64365399e-02,\n",
       "           -3.62111963e-02,  1.93977103e-01, -1.93359345e-01,\n",
       "            5.49594350e-02, -5.30078225e-02, -2.93797880e-01,\n",
       "           -3.51155773e-02, -2.92221904e-01,  3.11950110e-02,\n",
       "           -4.83181998e-02, -7.89851770e-02, -5.82627133e-02,\n",
       "           -1.94278687e-01, -2.90104866e-01, -1.64148599e-01]],\n",
       " \n",
       "         [[-5.52510582e-02, -1.25630617e-01,  5.82042709e-02,\n",
       "            9.12902802e-02,  1.70855671e-01, -7.60857016e-02,\n",
       "           -1.89526901e-01,  4.23936322e-02, -4.46560159e-02,\n",
       "           -3.18201333e-01, -2.46964153e-02, -8.90756994e-02,\n",
       "            1.30508780e-01,  2.05427259e-01, -2.10753325e-02,\n",
       "            9.20000672e-02,  6.32212535e-02,  1.45121617e-03,\n",
       "            4.62590456e-02,  1.43005192e-01, -1.41305119e-01,\n",
       "            9.94770974e-02, -2.86529869e-01,  1.66810025e-02,\n",
       "           -1.38515830e-01,  2.17741821e-02,  1.55557469e-01,\n",
       "           -1.74658466e-02, -1.07624084e-01,  2.94653978e-02]],\n",
       " \n",
       "         [[-3.86164710e-02, -4.94364016e-02,  1.11316361e-01,\n",
       "            7.60077685e-02,  2.07211599e-01,  3.94818094e-03,\n",
       "           -7.12670162e-02,  1.07232876e-01, -1.08504675e-01,\n",
       "           -3.24678749e-01,  6.20920211e-02,  1.61950346e-02,\n",
       "            1.86781734e-01,  1.10544287e-01, -2.31612161e-01,\n",
       "           -1.24890290e-01,  1.26364127e-01,  1.10478746e-02,\n",
       "           -3.11723351e-03,  6.44863546e-02, -1.37477413e-01,\n",
       "           -1.18706241e-01,  1.02854252e-01,  5.95976226e-02,\n",
       "           -6.88433275e-03,  6.65598884e-02,  2.73742154e-02,\n",
       "           -5.13467975e-02,  7.47687519e-02,  1.87120028e-02]],\n",
       " \n",
       "         [[ 5.00040688e-02,  1.47284389e-01,  1.15518766e-02,\n",
       "            6.54682051e-04,  5.22840619e-02,  6.87014088e-02,\n",
       "            3.41146216e-02,  4.79158200e-02,  3.69042084e-02,\n",
       "           -2.49213845e-01,  2.58839801e-02,  1.65616557e-01,\n",
       "            4.84644622e-02, -1.77771315e-01, -5.02814054e-01,\n",
       "           -2.79263183e-02,  1.08693928e-01, -3.47037911e-02,\n",
       "            1.17030799e-01, -1.77332252e-01, -6.89627603e-02,\n",
       "           -1.43307805e-01,  2.91229375e-02,  8.05064738e-02,\n",
       "            3.30734476e-02, -7.11566359e-02, -1.29063949e-01,\n",
       "            1.73910186e-02,  4.17216085e-02,  1.34525388e-01]],\n",
       " \n",
       "         [[ 2.08283380e-01,  3.47307175e-02, -3.26200053e-02,\n",
       "           -3.47329862e-02, -2.15257496e-01, -5.76497940e-03,\n",
       "            1.45940304e-01, -2.13232636e-01,  2.02850878e-01,\n",
       "           -1.14632640e-02, -1.16993058e-02,  8.35824236e-02,\n",
       "            4.57450049e-03, -1.70894369e-01, -5.50180227e-02,\n",
       "            9.74671543e-03,  1.27933487e-01,  5.83284274e-02,\n",
       "            1.52808905e-01, -2.27407143e-01, -9.78664123e-03,\n",
       "           -3.87423374e-02,  7.34518841e-02,  9.05740187e-02,\n",
       "            1.10978082e-01,  1.15881652e-01, -1.46713555e-01,\n",
       "            1.28635004e-01,  2.07200617e-01,  7.33788610e-02]]],\n",
       " \n",
       " \n",
       "        [[[ 5.98947890e-02, -5.37743159e-02, -1.71409681e-01,\n",
       "           -2.09409446e-02, -1.13687716e-01, -1.66912880e-02,\n",
       "           -2.52889264e-02, -2.88412929e-01, -1.97018504e-01,\n",
       "           -1.83832854e-01, -5.11807688e-02,  1.77385315e-01,\n",
       "           -1.89022034e-01,  5.68987941e-03, -1.24664761e-01,\n",
       "           -1.29264519e-01,  2.05085769e-01, -2.77759939e-01,\n",
       "           -1.54208243e-02, -6.45083338e-02, -1.28321290e-01,\n",
       "            1.25762252e-02,  1.82210654e-02,  8.40473846e-02,\n",
       "           -5.73199317e-02, -8.25647265e-02, -1.01071104e-01,\n",
       "           -1.12879083e-01,  2.06926286e-01, -5.09804524e-02]],\n",
       " \n",
       "         [[ 1.27323583e-01, -1.90824755e-02, -6.87707141e-02,\n",
       "           -1.56142581e-02, -2.71227419e-01, -6.63248152e-02,\n",
       "           -5.76321147e-02,  6.93941563e-02, -1.59205630e-01,\n",
       "           -3.59789729e-01,  4.58683353e-03,  1.98028475e-01,\n",
       "           -1.54820547e-01, -3.58005352e-02, -2.53554165e-01,\n",
       "           -2.38784943e-02,  1.81707636e-01, -1.67164430e-01,\n",
       "           -4.08365726e-02,  1.00993693e-01,  2.19201110e-02,\n",
       "            8.83565545e-02, -1.03688918e-01,  5.31264991e-02,\n",
       "           -1.15666904e-01, -1.31366238e-01, -2.93318983e-02,\n",
       "            1.07025951e-01,  9.97128636e-02, -2.59818900e-02]],\n",
       " \n",
       "         [[ 8.88243988e-02, -1.92254528e-01,  7.82682896e-02,\n",
       "           -1.85961463e-02, -6.68044835e-02, -1.38189390e-01,\n",
       "           -5.21645732e-02,  6.93100467e-02, -2.85217911e-02,\n",
       "           -1.47073567e-01, -2.27520373e-02,  2.20937878e-01,\n",
       "           -1.12163946e-01, -1.53696135e-01, -3.71429026e-01,\n",
       "            9.38543379e-02,  1.40487254e-01, -1.32441804e-01,\n",
       "           -3.93507257e-03,  6.74138442e-02,  8.65122974e-02,\n",
       "            3.49054299e-02, -3.35015655e-01,  4.96568531e-02,\n",
       "           -6.80144355e-02,  1.01347126e-01, -1.70465469e-01,\n",
       "            9.85546038e-03, -2.12461818e-02,  8.55774879e-02]],\n",
       " \n",
       "         [[ 3.24835703e-02, -3.00457060e-01,  9.31905136e-02,\n",
       "           -3.86998728e-02,  2.59929836e-01,  1.02963179e-01,\n",
       "           -3.97729725e-02,  4.45563346e-02, -4.13206965e-02,\n",
       "           -1.73998117e-01, -1.33853465e-01,  1.44355312e-01,\n",
       "           -1.70526147e-01,  1.48913255e-02, -5.58521971e-02,\n",
       "            7.32443333e-02,  4.03403044e-02, -7.41107240e-02,\n",
       "           -8.32322612e-02, -1.21460736e-01,  9.63913500e-02,\n",
       "            8.87644067e-02, -2.79950947e-01,  7.64557123e-02,\n",
       "           -3.05233635e-02,  1.96100190e-01, -1.07627191e-01,\n",
       "           -2.93693482e-03, -1.73826534e-02,  1.40362486e-01]],\n",
       " \n",
       "         [[ 1.74103484e-01,  1.22528918e-01, -2.50870157e-02,\n",
       "           -1.68167472e-01, -1.02463141e-02,  5.72578683e-02,\n",
       "            1.95817679e-01, -3.72829646e-01,  1.05447941e-01,\n",
       "           -3.56001407e-02, -2.42720008e-01, -9.19835865e-02,\n",
       "           -7.58493841e-02, -1.39076728e-02,  1.46506324e-01,\n",
       "            4.19540517e-02,  1.41841918e-01,  8.85041356e-02,\n",
       "            1.50355190e-01, -7.87292793e-02,  6.35764897e-02,\n",
       "           -4.53026406e-02, -1.35056078e-01,  6.31440133e-02,\n",
       "           -6.45963475e-02,  2.43845761e-01,  4.84705418e-02,\n",
       "            5.69845177e-02,  2.70256847e-02, -1.69302914e-02]]]],\n",
       "       dtype=float32),\n",
       " array([-0.03026242, -0.09343932, -0.09040046, -0.0374257 , -0.08982056,\n",
       "        -0.10691601, -0.01319164, -0.13490313, -0.07760029,  0.07247432,\n",
       "        -0.02291784, -0.05011617, -0.00749653, -0.13921279,  0.02080412,\n",
       "        -0.0896635 , -0.03291074, -0.00919063, -0.09078729, -0.02510958,\n",
       "        -0.11768665, -0.0472009 ,  0.00129509, -0.1864691 , -0.06907222,\n",
       "         0.01269227, -0.02300138, -0.03988512, -0.06741094, -0.05087279],\n",
       "       dtype=float32)]"
      ]
     },
     "execution_count": 72,
     "metadata": {},
     "output_type": "execute_result"
    }
   ],
   "source": [
    "# dispaly the weights and biases of each trainable layer in the network\n",
    "model.layers[0].get_weights()"
   ]
  },
  {
   "cell_type": "code",
   "execution_count": 76,
   "metadata": {},
   "outputs": [
    {
     "data": {
      "text/plain": [
       "(5, 5, 1, 30)"
      ]
     },
     "execution_count": 76,
     "metadata": {},
     "output_type": "execute_result"
    }
   ],
   "source": [
    "# weight of first onvolutional layer\n",
    "model.layers[0].get_weights()[0]\n",
    "model.layers[0].get_weights()[0].shape"
   ]
  },
  {
   "cell_type": "code",
   "execution_count": 75,
   "metadata": {},
   "outputs": [
    {
     "data": {
      "text/plain": [
       "(30,)"
      ]
     },
     "execution_count": 75,
     "metadata": {},
     "output_type": "execute_result"
    }
   ],
   "source": [
    "# bias of first convolutional layer \n",
    "model.layers[0].get_weights()[1].shape"
   ]
  },
  {
   "cell_type": "code",
   "execution_count": 78,
   "metadata": {},
   "outputs": [
    {
     "data": {
      "text/plain": [
       "[]"
      ]
     },
     "execution_count": 78,
     "metadata": {},
     "output_type": "execute_result"
    }
   ],
   "source": [
    "model.layers[1].get_weights() # no weights due to pooling layer"
   ]
  },
  {
   "cell_type": "code",
   "execution_count": 81,
   "metadata": {},
   "outputs": [
    {
     "data": {
      "text/plain": [
       "(3, 3, 30, 15)"
      ]
     },
     "execution_count": 81,
     "metadata": {},
     "output_type": "execute_result"
    }
   ],
   "source": [
    "model.layers[2].get_weights()[0].shape"
   ]
  },
  {
   "cell_type": "code",
   "execution_count": 82,
   "metadata": {},
   "outputs": [
    {
     "data": {
      "text/plain": [
       "(15,)"
      ]
     },
     "execution_count": 82,
     "metadata": {},
     "output_type": "execute_result"
    }
   ],
   "source": [
    "model.layers[2].get_weights()[1].shape"
   ]
  },
  {
   "cell_type": "code",
   "execution_count": 83,
   "metadata": {},
   "outputs": [
    {
     "data": {
      "text/plain": [
       "[]"
      ]
     },
     "execution_count": 83,
     "metadata": {},
     "output_type": "execute_result"
    }
   ],
   "source": [
    "model.layers[3].get_weights()"
   ]
  },
  {
   "cell_type": "code",
   "execution_count": 84,
   "metadata": {},
   "outputs": [
    {
     "data": {
      "text/plain": [
       "[]"
      ]
     },
     "execution_count": 84,
     "metadata": {},
     "output_type": "execute_result"
    }
   ],
   "source": [
    "model.layers[4].get_weights()"
   ]
  },
  {
   "cell_type": "code",
   "execution_count": 85,
   "metadata": {},
   "outputs": [
    {
     "data": {
      "text/plain": [
       "[]"
      ]
     },
     "execution_count": 85,
     "metadata": {},
     "output_type": "execute_result"
    }
   ],
   "source": [
    "model.layers[5].get_weights()"
   ]
  },
  {
   "cell_type": "code",
   "execution_count": 87,
   "metadata": {},
   "outputs": [
    {
     "data": {
      "text/plain": [
       "(375, 128)"
      ]
     },
     "execution_count": 87,
     "metadata": {},
     "output_type": "execute_result"
    }
   ],
   "source": [
    "model.layers[6].get_weights()[0].shape"
   ]
  },
  {
   "cell_type": "code",
   "execution_count": 94,
   "metadata": {},
   "outputs": [
    {
     "data": {
      "text/plain": [
       "<matplotlib.image.AxesImage at 0x283845e7a90>"
      ]
     },
     "execution_count": 94,
     "metadata": {},
     "output_type": "execute_result"
    },
    {
     "data": {
      "image/png": "[encoded data removed]",
      "text/plain": [
       "<Figure size 432x288 with 1 Axes>"
      ]
     },
     "metadata": {
      "needs_background": "light"
     },
     "output_type": "display_data"
    }
   ],
   "source": [
    "plt.imshow(model.layers[6].get_weights()[0])"
   ]
  },
  {
   "cell_type": "code",
   "execution_count": 88,
   "metadata": {},
   "outputs": [
    {
     "data": {
      "text/plain": [
       "(128,)"
      ]
     },
     "execution_count": 88,
     "metadata": {},
     "output_type": "execute_result"
    }
   ],
   "source": [
    "model.layers[6].get_weights()[1].shape"
   ]
  },
  {
   "cell_type": "code",
   "execution_count": 90,
   "metadata": {},
   "outputs": [
    {
     "name": "stdout",
     "output_type": "stream",
     "text": [
      "(128, 50)\n",
      "(50,)\n"
     ]
    }
   ],
   "source": [
    "print(model.layers[7].get_weights()[0].shape)\n",
    "print(model.layers[7].get_weights()[1].shape)"
   ]
  },
  {
   "cell_type": "code",
   "execution_count": 95,
   "metadata": {},
   "outputs": [
    {
     "data": {
      "text/plain": [
       "<matplotlib.image.AxesImage at 0x2838463e7f0>"
      ]
     },
     "execution_count": 95,
     "metadata": {},
     "output_type": "execute_result"
    },
    {
     "data": {
      "image/png": "[encoded data removed]",
      "text/plain": [
       "<Figure size 432x288 with 1 Axes>"
      ]
     },
     "metadata": {
      "needs_background": "light"
     },
     "output_type": "display_data"
    }
   ],
   "source": [
    "plt.imshow(model.layers[7].get_weights()[0])"
   ]
  },
  {
   "cell_type": "code",
   "execution_count": 91,
   "metadata": {},
   "outputs": [
    {
     "name": "stdout",
     "output_type": "stream",
     "text": [
      "(50, 10)\n",
      "(10,)\n"
     ]
    }
   ],
   "source": [
    "print(model.layers[8].get_weights()[0].shape)\n",
    "print(model.layers[8].get_weights()[1].shape)"
   ]
  },
  {
   "cell_type": "code",
   "execution_count": 96,
   "metadata": {},
   "outputs": [
    {
     "data": {
      "text/plain": [
       "<matplotlib.image.AxesImage at 0x283847170b8>"
      ]
     },
     "execution_count": 96,
     "metadata": {},
     "output_type": "execute_result"
    },
    {
     "data": {
      "image/png": "[encoded data removed]",
      "text/plain": [
       "<Figure size 432x288 with 1 Axes>"
      ]
     },
     "metadata": {
      "needs_background": "light"
     },
     "output_type": "display_data"
    }
   ],
   "source": [
    "plt.imshow(model.layers[8].get_weights()[0])"
   ]
  },
  {
   "cell_type": "code",
   "execution_count": null,
   "metadata": {},
   "outputs": [],
   "source": []
  },
  {
   "cell_type": "code",
   "execution_count": 97,
   "metadata": {},
   "outputs": [],
   "source": [
    "weight_conv2d_1 = model.layers[0].get_weights()[0][:,:,0,:]"
   ]
  },
  {
   "cell_type": "code",
   "execution_count": 98,
   "metadata": {},
   "outputs": [
    {
     "data": {
      "image/png": "[encoded data removed]",
      "text/plain": [
       "<Figure size 864x576 with 30 Axes>"
      ]
     },
     "metadata": {
      "needs_background": "light"
     },
     "output_type": "display_data"
    }
   ],
   "source": [
    "# function to get weights of convolutional layer\n",
    "col_size = 6\n",
    "row_size = 5\n",
    "filter_index = 0\n",
    "fig, ax = plt.subplots(row_size, col_size, figsize=(12,8))\n",
    "for row in range(0,row_size): \n",
    "  for col in range(0,col_size):\n",
    "    ax[row][col].imshow(weight_conv2d_1[:,:,filter_index],cmap=\"gray\")\n",
    "    filter_index += 1"
   ]
  },
  {
   "cell_type": "code",
   "execution_count": 100,
   "metadata": {},
   "outputs": [],
   "source": [
    "weight_conv2d_3 = model.layers[2].get_weights()[0][:,:,0,:]"
   ]
  },
  {
   "cell_type": "code",
   "execution_count": 102,
   "metadata": {},
   "outputs": [
    {
     "data": {
      "image/png": "[encoded data removed]",
      "text/plain": [
       "<Figure size 864x576 with 15 Axes>"
      ]
     },
     "metadata": {
      "needs_background": "light"
     },
     "output_type": "display_data"
    }
   ],
   "source": [
    "# function to get weights of convolutional layer\n",
    "col_size = 3\n",
    "row_size = 5\n",
    "filter_index = 0\n",
    "fig, ax = plt.subplots(row_size, col_size, figsize=(12,8))\n",
    "for row in range(0,row_size): \n",
    "  for col in range(0,col_size):\n",
    "    ax[row][col].imshow(weight_conv2d_3[:,:,filter_index],cmap=\"gray\")\n",
    "    filter_index += 1"
   ]
  },
  {
   "cell_type": "code",
   "execution_count": 104,
   "metadata": {},
   "outputs": [],
   "source": [
    "from keras.models import Model\n",
    "layer_outputs = [layer.output for layer in model.layers]"
   ]
  },
  {
   "cell_type": "code",
   "execution_count": 106,
   "metadata": {},
   "outputs": [
    {
     "name": "stdout",
     "output_type": "stream",
     "text": [
      "[<tf.Tensor 'conv2d_5/Relu:0' shape=(?, 24, 24, 30) dtype=float32>, <tf.Tensor 'max_pooling2d_5/MaxPool:0' shape=(?, 12, 12, 30) dtype=float32>, <tf.Tensor 'conv2d_6/Relu:0' shape=(?, 10, 10, 15) dtype=float32>, <tf.Tensor 'max_pooling2d_6/MaxPool:0' shape=(?, 5, 5, 15) dtype=float32>, <tf.Tensor 'dropout_3/cond/Merge:0' shape=(?, 5, 5, 15) dtype=float32>, <tf.Tensor 'flatten_3/Reshape:0' shape=(?, ?) dtype=float32>, <tf.Tensor 'dense_6/Relu:0' shape=(?, 128) dtype=float32>, <tf.Tensor 'dense_7/Relu:0' shape=(?, 50) dtype=float32>, <tf.Tensor 'dense_8/Softmax:0' shape=(?, 10) dtype=float32>]\n"
     ]
    }
   ],
   "source": [
    "print(layer_outputs)"
   ]
  },
  {
   "cell_type": "code",
   "execution_count": 107,
   "metadata": {},
   "outputs": [],
   "source": [
    "activation_model = Model(inputs=model.input, outputs=layer_outputs)"
   ]
  },
  {
   "cell_type": "code",
   "execution_count": 108,
   "metadata": {},
   "outputs": [
    {
     "data": {
      "text/plain": [
       "TensorShape([Dimension(None), Dimension(28), Dimension(28), Dimension(1)])"
      ]
     },
     "execution_count": 108,
     "metadata": {},
     "output_type": "execute_result"
    }
   ],
   "source": [
    "model.input.shape"
   ]
  },
  {
   "cell_type": "code",
   "execution_count": 111,
   "metadata": {},
   "outputs": [
    {
     "name": "stdout",
     "output_type": "stream",
     "text": [
      "<keras.engine.training.Model object at 0x0000028385B64BE0>\n"
     ]
    }
   ],
   "source": [
    "print(activation_model)"
   ]
  },
  {
   "cell_type": "code",
   "execution_count": 113,
   "metadata": {},
   "outputs": [],
   "source": [
    "activations = activation_model.predict(X_train[10].reshape(1,28,28,1))"
   ]
  },
  {
   "cell_type": "code",
   "execution_count": 119,
   "metadata": {},
   "outputs": [
    {
     "name": "stdout",
     "output_type": "stream",
     "text": [
      "(1, 24, 24, 30)\n",
      "(1, 12, 12, 30)\n",
      "(1, 10, 10, 15)\n",
      "(1, 5, 5, 15)\n",
      "(1, 5, 5, 15)\n",
      "(1, 375)\n",
      "(1, 128)\n",
      "(1, 50)\n",
      "(1, 10)\n"
     ]
    }
   ],
   "source": [
    "print(activations[0].shape)\n",
    "print(activations[1].shape)\n",
    "print(activations[2].shape)\n",
    "print(activations[3].shape)\n",
    "print(activations[4].shape)\n",
    "print(activations[5].shape)\n",
    "print(activations[6].shape)\n",
    "print(activations[7].shape)\n",
    "print(activations[8].shape)"
   ]
  },
  {
   "cell_type": "code",
   "execution_count": null,
   "metadata": {},
   "outputs": [],
   "source": [
    "#Visualize CNN Layers\n",
    "from keras.models import Model\n",
    "layer_outputs = [layer.output for layer in model.layers]\n",
    "activation_model = Model(inputs=model.input, outputs=layer_outputs)\n",
    "activations = activation_model.predict(X_train[10].reshape(1,28,28,1))"
   ]
  },
  {
   "cell_type": "code",
   "execution_count": 129,
   "metadata": {},
   "outputs": [],
   "source": [
    "def display_activation(activations, col_size, row_size, act_index): \n",
    "    activation = activations[act_index]\n",
    "    activation_index=0\n",
    "    fig, ax = plt.subplots(row_size, col_size, figsize=(row_size*2.5,col_size*1.5))\n",
    "    for row in range(0,row_size):\n",
    "        for col in range(0,col_size):\n",
    "            ax[row][col].imshow(activation[0, :, :, activation_index])\n",
    "            activation_index += 1"
   ]
  },
  {
   "cell_type": "code",
   "execution_count": 130,
   "metadata": {},
   "outputs": [
    {
     "data": {
      "text/plain": [
       "<matplotlib.image.AxesImage at 0x283862efcf8>"
      ]
     },
     "execution_count": 130,
     "metadata": {},
     "output_type": "execute_result"
    },
    {
     "data": {
      "image/png": "[encoded data removed]",
      "text/plain": [
       "<Figure size 432x288 with 1 Axes>"
      ]
     },
     "metadata": {
      "needs_background": "light"
     },
     "output_type": "display_data"
    }
   ],
   "source": [
    "#Displaying original Image\n",
    "plt.imshow(X_train[11][:,:,0])"
   ]
  },
  {
   "cell_type": "code",
   "execution_count": 131,
   "metadata": {},
   "outputs": [
    {
     "data": {
      "image/png": "[encoded data removed]",
      "text/plain": [
       "<Figure size 1080x540 with 30 Axes>"
      ]
     },
     "metadata": {
      "needs_background": "light"
     },
     "output_type": "display_data"
    }
   ],
   "source": [
    "#Desplaying above image after layer 2 .\n",
    "#layer 1 is input layer .\n",
    "\n",
    "display_activation(activations, 5, 6, 1)"
   ]
  },
  {
   "cell_type": "code",
   "execution_count": 132,
   "metadata": {},
   "outputs": [
    {
     "data": {
      "image/png": "[encoded data removed]",
      "text/plain": [
       "<Figure size 540x540 with 15 Axes>"
      ]
     },
     "metadata": {
      "needs_background": "light"
     },
     "output_type": "display_data"
    }
   ],
   "source": [
    "#Displaying output of layer 4\n",
    "display_activation(activations, 5, 3, 3)"
   ]
  },
  {
   "cell_type": "code",
   "execution_count": 133,
   "metadata": {},
   "outputs": [
    {
     "data": {
      "image/png": "[encoded data removed]",
      "text/plain": [
       "<Figure size 540x540 with 15 Axes>"
      ]
     },
     "metadata": {
      "needs_background": "light"
     },
     "output_type": "display_data"
    }
   ],
   "source": [
    "#Displaying output of layer 4\n",
    "display_activation(activations, 5, 3, 2)"
   ]
  },
  {
   "cell_type": "code",
   "execution_count": 134,
   "metadata": {},
   "outputs": [
    {
     "data": {
      "image/png": "[encoded data removed]",
      "text/plain": [
       "<Figure size 540x540 with 15 Axes>"
      ]
     },
     "metadata": {
      "needs_background": "light"
     },
     "output_type": "display_data"
    }
   ],
   "source": [
    "#Displaying output of layer 4\n",
    "display_activation(activations, 5, 3, 4)"
   ]
  },
  {
   "cell_type": "code",
   "execution_count": 139,
   "metadata": {},
   "outputs": [],
   "source": [
    "from sklearn.metrics import confusion_matrix\n",
    "Y_prediction = model.predict(X_valid)\n",
    "# Convert predictions classes to one hot vectors \n",
    "Y_pred_classes = np.argmax(Y_prediction,axis = 1) \n",
    "# Convert validation observations to one hot vectors\n",
    "Y_true = np.argmax(Y_valid,axis = 1) \n",
    "# compute the confusion matrix\n",
    "confusion_mtx = confusion_matrix(Y_true, Y_pred_classes) "
   ]
  },
  {
   "cell_type": "code",
   "execution_count": 140,
   "metadata": {},
   "outputs": [
    {
     "data": {
      "image/png": "[encoded data removed]",
      "text/plain": [
       "<Figure size 720x576 with 2 Axes>"
      ]
     },
     "metadata": {
      "needs_background": "light"
     },
     "output_type": "display_data"
    }
   ],
   "source": [
    "\n",
    "#confusion matrix\n",
    "plt.figure(figsize=(10,8))\n",
    "sns.heatmap(confusion_mtx, annot=True, fmt=\"d\");\n",
    "\n",
    "# predict results\n",
    "results = model.predict(test)\n",
    "\n",
    "# select the indix with the maximum probability\n",
    "results = np.argmax(results,axis = 1)"
   ]
  },
  {
   "cell_type": "code",
   "execution_count": 138,
   "metadata": {},
   "outputs": [
    {
     "data": {
      "text/plain": [
       "(28000,)"
      ]
     },
     "execution_count": 138,
     "metadata": {},
     "output_type": "execute_result"
    }
   ],
   "source": [
    "results.shape"
   ]
  },
  {
   "cell_type": "code",
   "execution_count": 141,
   "metadata": {},
   "outputs": [
    {
     "name": "stdout",
     "output_type": "stream",
     "text": [
      "              precision    recall  f1-score   support\n",
      "\n",
      "           0       1.00      1.00      1.00       408\n",
      "           1       1.00      0.99      0.99       471\n",
      "           2       0.99      1.00      0.99       420\n",
      "           3       0.99      0.99      0.99       506\n",
      "           4       0.99      0.99      0.99       397\n",
      "           5       0.99      0.99      0.99       339\n",
      "           6       0.99      1.00      0.99       402\n",
      "           7       0.99      0.99      0.99       438\n",
      "           8       0.99      0.99      0.99       403\n",
      "           9       1.00      0.99      0.99       416\n",
      "\n",
      "   micro avg       0.99      0.99      0.99      4200\n",
      "   macro avg       0.99      0.99      0.99      4200\n",
      "weighted avg       0.99      0.99      0.99      4200\n",
      "\n"
     ]
    }
   ],
   "source": [
    "from sklearn.metrics import classification_report\n",
    "print(classification_report(Y_true, Y_pred_classes))"
   ]
  },
  {
   "cell_type": "code",
   "execution_count": null,
   "metadata": {},
   "outputs": [],
   "source": []
  }
 ],
 "metadata": {
  "kernelspec": {
   "display_name": "Python 3",
   "language": "python",
   "name": "python3"
  },
  "language_info": {
   "codemirror_mode": {
    "name": "ipython",
    "version": 3
   },
   "file_extension": ".py",
   "mimetype": "text/x-python",
   "name": "python",
   "nbconvert_exporter": "python",
   "pygments_lexer": "ipython3",
   "version": "3.6.0"
  }
 },
 "nbformat": 4,
 "nbformat_minor": 2
}
